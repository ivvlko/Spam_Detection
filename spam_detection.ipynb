{
 "cells": [
  {
   "cell_type": "markdown",
   "metadata": {},
   "source": [
    "# Spam Detection\n",
    "\n",
    "### Libraries:"
   ]
  },
  {
   "cell_type": "code",
   "execution_count": 1,
   "metadata": {},
   "outputs": [],
   "source": [
    "%matplotlib inline"
   ]
  },
  {
   "cell_type": "code",
   "execution_count": 2,
   "metadata": {},
   "outputs": [
    {
     "name": "stderr",
     "output_type": "stream",
     "text": [
      "[nltk_data] Downloading package wordnet to /home/vlado/nltk_data...\n",
      "[nltk_data]   Package wordnet is already up-to-date!\n"
     ]
    }
   ],
   "source": [
    "import pandas as pd\n",
    "import numpy as np\n",
    "import matplotlib.pyplot as plt\n",
    "import seaborn as sns\n",
    "np.random.seed(500)\n",
    "\n",
    "from nltk.stem import SnowballStemmer\n",
    "from nltk.tokenize import word_tokenize\n",
    "from nltk.corpus import stopwords\n",
    "import nltk\n",
    "nltk.download('wordnet')\n",
    "import re\n",
    "\n",
    "from sklearn.pipeline import  Pipeline\n",
    "from sklearn.feature_extraction.text import TfidfVectorizer\n",
    "from sklearn.decomposition import TruncatedSVD\n",
    "from sklearn.model_selection import GridSearchCV, train_test_split\n",
    "from sklearn.naive_bayes import MultinomialNB, ComplementNB\n",
    "from sklearn.linear_model import LogisticRegression\n",
    "from sklearn.metrics import recall_score, precision_score, f1_score, confusion_matrix\n",
    "from sklearn.ensemble import RandomForestClassifier, AdaBoostClassifier\n",
    "from sklearn.svm import SVC"
   ]
  },
  {
   "cell_type": "markdown",
   "metadata": {},
   "source": [
    "## Abstract\n",
    "\n",
    "Spam Detection is a must have trait for every good email provider. It helps you filter the junk, spam messages from the real ones. There are two main camps in terms of dealing with spams assuming we are not going to achieve 100% accuracy ever - some people prefer to never let spam messages in their main sections at expense on some messages being sent wrongly in the spam section and the other prefer to be 100% sure the real messages are not sent to 'Spam'.\n",
    "\n",
    "We are not going in any of these direction. We will pick the best model in terms of how accurate it is. We are not going to make the final call based on the recall or precision for the ham or spam target.\n",
    "\n",
    "Credit to the Authors of the original dataset - [click](https://archive.ics.uci.edu/ml/datasets/SMS+Spam+Collection). "
   ]
  },
  {
   "cell_type": "markdown",
   "metadata": {},
   "source": [
    "## Data processing and EDA"
   ]
  },
  {
   "cell_type": "code",
   "execution_count": 3,
   "metadata": {},
   "outputs": [],
   "source": [
    "data = pd.read_csv('spam.csv', encoding='latin-1')\n",
    "data = data[['v1','v2']]"
   ]
  },
  {
   "cell_type": "code",
   "execution_count": 4,
   "metadata": {},
   "outputs": [],
   "source": [
    "data.columns = ['target', 'text']"
   ]
  },
  {
   "cell_type": "markdown",
   "metadata": {},
   "source": [
    "This is a NLP task so we only need the target and the text. Now let's clean the data. "
   ]
  },
  {
   "cell_type": "code",
   "execution_count": 5,
   "metadata": {},
   "outputs": [],
   "source": [
    "def clean_text(text):\n",
    "    text = text.lower()\n",
    "    text = re.sub(r\"what's\", \"what is \", text)\n",
    "    text = re.sub(r\"\\'s\", \" \", text)\n",
    "    text = re.sub(r\"\\'ve\", \" have \", text)\n",
    "    text = re.sub(r\"can't\", \"can not \", text)\n",
    "    text = re.sub(r\"n't\", \" not \", text)\n",
    "    text = re.sub(r\"i'm\", \"i am \", text)\n",
    "    text = re.sub(r\"\\'re\", \" are \", text)\n",
    "    text = re.sub(r\"\\'d\", \" would \", text)\n",
    "    text = re.sub(r\"\\'ll\", \" will \", text)\n",
    "    text = re.sub('\\W', ' ', text)\n",
    "    text = re.sub('\\s+', ' ', text)\n",
    "    text = re.sub(r'\\d', '', text)\n",
    "    text = text.strip(' ')\n",
    "    return text\n",
    "\n",
    "\n",
    "cleaned_data = [clean_text(x) for x in data['text']]\n",
    "data['text'] = cleaned_data"
   ]
  },
  {
   "cell_type": "markdown",
   "metadata": {},
   "source": [
    "We perform stemming which is as essential part of every text classification problem. It reduces the words to their basic component and this is a form of normalization and even dimensionality reduction. The words 'player', 'playful' and 'playing' will all become 'play' which makes reduction of two dimensions only by performing stemming. Imagine for the effect on the entire corpus."
   ]
  },
  {
   "cell_type": "code",
   "execution_count": 6,
   "metadata": {},
   "outputs": [],
   "source": [
    "def stem_series(series):\n",
    "    stemmer = SnowballStemmer(language='english', ignore_stopwords=True)\n",
    "    brand_new_list = []\n",
    "    for row in series:\n",
    "        new_row = ''\n",
    "        tokenized_row = word_tokenize(row)\n",
    "        for word in tokenized_row:\n",
    "            new_row += stemmer.stem(word) + ' '\n",
    "        brand_new_list.append(new_row)\n",
    "    return brand_new_list"
   ]
  },
  {
   "cell_type": "code",
   "execution_count": 7,
   "metadata": {},
   "outputs": [],
   "source": [
    "stemmed_data = stem_series(data['text'])\n",
    "data['target'] = data['target'].replace({'ham': 0, 'spam': 1})"
   ]
  },
  {
   "cell_type": "code",
   "execution_count": 8,
   "metadata": {},
   "outputs": [
    {
     "data": {
      "text/plain": [
       "0       go until jurong point crazi avail only in bugi...\n",
       "1                                  ok lar joke wif u oni \n",
       "2       free entri in a wkli comp to win fa cup final ...\n",
       "3            u dun say so earli hor u c alreadi then say \n",
       "4       nah i do not think he goe to usf he live aroun...\n",
       "                              ...                        \n",
       "5567    this is the nd time we have tri contact u u ha...\n",
       "5568                    will ì_ b go to esplanad fr home \n",
       "5569      piti was in mood for that so any other suggest \n",
       "5570    the guy did some bitch but i act like i would ...\n",
       "5571                           rofl its true to its name \n",
       "Name: text, Length: 5572, dtype: object"
      ]
     },
     "execution_count": 8,
     "metadata": {},
     "output_type": "execute_result"
    }
   ],
   "source": [
    "data['text'] = stemmed_data\n",
    "data['text']"
   ]
  },
  {
   "cell_type": "markdown",
   "metadata": {},
   "source": [
    "Lets observe our data a bit."
   ]
  },
  {
   "cell_type": "code",
   "execution_count": 9,
   "metadata": {},
   "outputs": [
    {
     "data": {
      "image/png": "[encoded data removed]",
      "text/plain": [
       "<Figure size 432x288 with 1 Axes>"
      ]
     },
     "metadata": {},
     "output_type": "display_data"
    }
   ],
   "source": [
    "plt.style.use('ggplot')\n",
    "plt.hist(data['target'])\n",
    "plt.xlabel('class')\n",
    "plt.ylabel('observations')\n",
    "plt.xticks([0, 1])\n",
    "plt.yticks([0,500, 2500, 5000])\n",
    "plt.show()"
   ]
  },
  {
   "cell_type": "markdown",
   "metadata": {},
   "source": [
    "So as expected in NLP the distribution is often really bad. This is not an exception. We should stratify our splits and we should be careful if our models do not predict only the more populated class."
   ]
  },
  {
   "cell_type": "markdown",
   "metadata": {},
   "source": [
    "Now we will use TF-IDF to turn our raw text into numbers with weights. Learn more about it [here](https://scikit-learn.org/stable/modules/generated/sklearn.feature_extraction.text.TfidfVectorizer.html). \n",
    "\n",
    "We are gonna make the tuning of the TF-IDF with NB since it's the fastest model."
   ]
  },
  {
   "cell_type": "code",
   "execution_count": 10,
   "metadata": {},
   "outputs": [],
   "source": [
    "# params = {'tfidf__max_df': [0 , 0.25, 0.5,  0.75, 1],\n",
    "#          'tfidf__min_df': [0, 0.25, 0.5, 0.75, 1],\n",
    "#          'tfidf__ngram_range': [(1, 1), (1, 2), (1,3), (1, 4), (1, 5)],\n",
    "#          'clf__alpha': [0.01, 0.1, 0.001, 0.0001, 2, 5, 1, 10, 20, 50, 100]\n",
    "#          }\n",
    "\n",
    "# pipeline = Pipeline([('tfidf', TfidfVectorizer(stop_words=stopwords.words('english'))), ('clf', MultinomialNB())])\n",
    "# grid = GridSearchCV(pipeline, param_grid=params, n_jobs=-1, verbose=0)\n",
    "# grid.fit(data['text'], data['target'])"
   ]
  },
  {
   "cell_type": "code",
   "execution_count": 11,
   "metadata": {},
   "outputs": [],
   "source": [
    "# grid.best_params_"
   ]
  },
  {
   "cell_type": "code",
   "execution_count": 12,
   "metadata": {},
   "outputs": [],
   "source": [
    "# tf_idf = TfidfVectorizer(stop_words=stopwords.words('english'), ngram_range=(1,2))\n",
    "# processed_data = tf_idf.fit_transform(data['text'])\n"
   ]
  },
  {
   "cell_type": "markdown",
   "metadata": {},
   "source": [
    "Due to the change in ngram range hyperparameter now we have 35656 dimensions, approximately 30k more than the original. It is a good idea to perform some form of Dimensionality reduction."
   ]
  },
  {
   "cell_type": "markdown",
   "metadata": {},
   "source": [
    "Now we need to find a good projection of the data in lower dimensions. We assume that most of the data as being turn into a sparse matrix is doesn't give us any information because it's full of zeroes. Here we perform TruncatedSVD which is the best model for big sparse matrices."
   ]
  },
  {
   "cell_type": "code",
   "execution_count": 13,
   "metadata": {},
   "outputs": [],
   "source": [
    "# svd = TruncatedSVD(n_components=4250)\n",
    "# svd.fit_transform(processed_data)\n",
    "# cumulative_sum = np.sum(svd.explained_variance_ratio_)\n",
    "cumulative_sum = 0.9483756374157434\n"
   ]
  },
  {
   "cell_type": "markdown",
   "metadata": {},
   "source": [
    "With 4250 singular values we were able to retrieve more than 96% of the information which should be enough for the purposes of the research. Now we can set hyperparameter max_features of the TF-idf Vectorizer to that number and proceed with the modelling with less but more important features."
   ]
  },
  {
   "cell_type": "code",
   "execution_count": 14,
   "metadata": {},
   "outputs": [],
   "source": [
    "tf_idf = TfidfVectorizer(stop_words=stopwords.words('english'), ngram_range=(1,2), max_features=4250)\n",
    "processed_data = tf_idf.fit_transform(data['text'])"
   ]
  },
  {
   "cell_type": "markdown",
   "metadata": {},
   "source": [
    "Now that we are ready with all the preprocessing we can spare a minute for some EDA to double check if we've missed something. Let's find the most popular words for start."
   ]
  },
  {
   "cell_type": "code",
   "execution_count": 15,
   "metadata": {},
   "outputs": [],
   "source": [
    "sorted_voc = sorted(tf_idf.vocabulary_.items(), key=lambda x: -x[1])\n",
    "x = [x[0] for x in sorted_voc[:15]]\n",
    "y = [y[1] for y in sorted_voc[:15]]"
   ]
  },
  {
   "cell_type": "code",
   "execution_count": 16,
   "metadata": {},
   "outputs": [
    {
     "data": {
      "image/png": "[encoded data removed]",
      "text/plain": [
       "<Figure size 720x576 with 1 Axes>"
      ]
     },
     "metadata": {},
     "output_type": "display_data"
    }
   ],
   "source": [
    "plt.figure(figsize=[10,8])\n",
    "plt.bar(x, y)\n",
    "plt.show()"
   ]
  },
  {
   "cell_type": "markdown",
   "metadata": {},
   "source": [
    "Wow, this is a lot of garbage. Apparently most of the spam messages includes this sort of words not even in English. But apparently this garbage brings some information otherwise it would have been wiped by the SVD. Let's check some of the weights now."
   ]
  },
  {
   "cell_type": "code",
   "execution_count": 17,
   "metadata": {},
   "outputs": [],
   "source": [
    "weights = []\n",
    "index_value={i[1]:i[0] for i in tf_idf.vocabulary_.items()}\n",
    "for row in processed_data:\n",
    "    weights.append({index_value[column]:value for (column,value) in zip(row.indices,row.data)})"
   ]
  },
  {
   "cell_type": "code",
   "execution_count": 18,
   "metadata": {},
   "outputs": [],
   "source": [
    "most_important = [ max(weights[x].values()) for x in range(len(weights)) if len(weights[x])>0]\n",
    "words = [max(weights[x], key=lambda k: weights[x][k]) for x in range(len(weights)) if len(weights[x])>0]"
   ]
  },
  {
   "cell_type": "markdown",
   "metadata": {},
   "source": [
    "One quick check because those were confusing comprehensions."
   ]
  },
  {
   "cell_type": "code",
   "execution_count": 19,
   "metadata": {},
   "outputs": [
    {
     "data": {
      "text/plain": [
       "(0.4917512924245525,\n",
       " 'ok lar',\n",
       " {'ok lar': 0.4917512924245525,\n",
       "  'oni': 0.4917512924245525,\n",
       "  'wif': 0.3883003303876936,\n",
       "  'joke': 0.41317330330870167,\n",
       "  'lar': 0.3673359594503681,\n",
       "  'ok': 0.24481891378328105})"
      ]
     },
     "execution_count": 19,
     "metadata": {},
     "output_type": "execute_result"
    }
   ],
   "source": [
    "most_important[1], words[1], weights[1]"
   ]
  },
  {
   "cell_type": "code",
   "execution_count": 20,
   "metadata": {},
   "outputs": [
    {
     "data": {
      "image/png": "[encoded data removed]",
      "text/plain": [
       "<Figure size 720x576 with 1 Axes>"
      ]
     },
     "metadata": {},
     "output_type": "display_data"
    },
    {
     "data": {
      "image/png": "[encoded data removed]",
      "text/plain": [
       "<Figure size 720x576 with 1 Axes>"
      ]
     },
     "metadata": {},
     "output_type": "display_data"
    },
    {
     "data": {
      "image/png": "[encoded data removed]",
      "text/plain": [
       "<Figure size 720x576 with 1 Axes>"
      ]
     },
     "metadata": {},
     "output_type": "display_data"
    },
    {
     "data": {
      "image/png": "[encoded data removed]",
      "text/plain": [
       "<Figure size 720x576 with 1 Axes>"
      ]
     },
     "metadata": {},
     "output_type": "display_data"
    },
    {
     "data": {
      "image/png": "[encoded data removed]",
      "text/plain": [
       "<Figure size 720x576 with 1 Axes>"
      ]
     },
     "metadata": {},
     "output_type": "display_data"
    }
   ],
   "source": [
    "plt.figure(figsize=[10,8])\n",
    "plt.barh(words[:20],most_important[:20])\n",
    "plt.xlabel('tf_idf score')\n",
    "plt.ylabel('words')\n",
    "plt.show()\n",
    "\n",
    "plt.figure(figsize=[10,8])\n",
    "plt.barh(words[20:40],most_important[20:40])\n",
    "plt.xlabel('tf_idf score')\n",
    "plt.ylabel('words')\n",
    "plt.show()\n",
    "\n",
    "plt.figure(figsize=[10,8])\n",
    "plt.barh(words[40:60],most_important[40:60])\n",
    "plt.xlabel('tf_idf score')\n",
    "plt.ylabel('words')\n",
    "plt.show()\n",
    "\n",
    "plt.figure(figsize=[10,8])\n",
    "plt.barh(words[60:80],most_important[60:80])\n",
    "plt.xlabel('tf_idf score')\n",
    "plt.ylabel('words')\n",
    "plt.show()\n",
    "\n",
    "\n",
    "plt.figure(figsize=[10,8])\n",
    "plt.barh(words[80:100],most_important[80:100])\n",
    "plt.xlabel('tf_idf score')\n",
    "plt.ylabel('words')\n",
    "plt.show()"
   ]
  },
  {
   "cell_type": "markdown",
   "metadata": {},
   "source": [
    "Now we kinda know what our data looks like from that mini sample. We can move on with the modelling. It will be very tedious to check all the 5500 words. And pointless. These algorithms(tf-idf vectorizer and TruncatedSVD) are proven. "
   ]
  },
  {
   "cell_type": "markdown",
   "metadata": {},
   "source": [
    "## Model Selection"
   ]
  },
  {
   "cell_type": "code",
   "execution_count": 21,
   "metadata": {},
   "outputs": [],
   "source": [
    "x_train, x_test, y_train, y_test = train_test_split(processed_data, data['target'], stratify = data['target'])"
   ]
  },
  {
   "cell_type": "code",
   "execution_count": 22,
   "metadata": {},
   "outputs": [
    {
     "data": {
      "text/plain": [
       "((4179, 4250), (1393, 4250), (4179,), (1393,))"
      ]
     },
     "execution_count": 22,
     "metadata": {},
     "output_type": "execute_result"
    }
   ],
   "source": [
    "x_train.shape, x_test.shape, y_train.shape, y_test.shape"
   ]
  },
  {
   "cell_type": "markdown",
   "metadata": {},
   "source": [
    "### Multinomial NB"
   ]
  },
  {
   "cell_type": "code",
   "execution_count": 23,
   "metadata": {},
   "outputs": [
    {
     "data": {
      "text/plain": [
       "GridSearchCV(estimator=MultinomialNB(),\n",
       "             param_grid={'alpha': [0.01, 0.1, 0.001, 0.0001, 2, 5, 1, 10, 20,\n",
       "                                   50, 100]})"
      ]
     },
     "execution_count": 23,
     "metadata": {},
     "output_type": "execute_result"
    }
   ],
   "source": [
    "params = {'alpha': [0.01, 0.1, 0.001, 0.0001, 2, 5, 1, 10, 20, 50, 100]}\n",
    "grid = GridSearchCV(MultinomialNB(), param_grid=params)\n",
    "grid.fit(x_train, y_train)"
   ]
  },
  {
   "cell_type": "code",
   "execution_count": 24,
   "metadata": {},
   "outputs": [
    {
     "data": {
      "text/plain": [
       "{'alpha': 0.1}"
      ]
     },
     "execution_count": 24,
     "metadata": {},
     "output_type": "execute_result"
    }
   ],
   "source": [
    "grid.best_params_"
   ]
  },
  {
   "cell_type": "code",
   "execution_count": 25,
   "metadata": {},
   "outputs": [
    {
     "data": {
      "text/plain": [
       "MultinomialNB(alpha=0.1)"
      ]
     },
     "execution_count": 25,
     "metadata": {},
     "output_type": "execute_result"
    }
   ],
   "source": [
    "nb = MultinomialNB(alpha = 0.1)\n",
    "nb.fit(x_train, y_train)"
   ]
  },
  {
   "cell_type": "code",
   "execution_count": 26,
   "metadata": {},
   "outputs": [
    {
     "name": "stdout",
     "output_type": "stream",
     "text": [
      "Training Score: 0.9897104570471404\n",
      "Testing Score: 0.9849246231155779\n",
      "Recall: 0.9770114942528736\n",
      "Precision: 0.9090909090909091\n",
      "F1: 0.9418282548476455\n"
     ]
    }
   ],
   "source": [
    "print(f'Training Score: {nb.score(x_train, y_train)}')\n",
    "print(f'Testing Score: {nb.score(x_test, y_test)}')\n",
    "print(f'Recall: {recall_score(nb.predict(x_test), y_test)}')\n",
    "print(f'Precision: {precision_score(nb.predict(x_test), y_test)}')\n",
    "print(f'F1: {f1_score(nb.predict(x_test), y_test)}')\n",
    "\n"
   ]
  },
  {
   "cell_type": "code",
   "execution_count": 27,
   "metadata": {},
   "outputs": [],
   "source": [
    "nb_conf = confusion_matrix(nb.predict(x_test), y_test)"
   ]
  },
  {
   "cell_type": "code",
   "execution_count": 28,
   "metadata": {},
   "outputs": [
    {
     "data": {
      "image/png": "[encoded data removed]",
      "text/plain": [
       "<Figure size 432x288 with 2 Axes>"
      ]
     },
     "metadata": {},
     "output_type": "display_data"
    }
   ],
   "source": [
    "sns.heatmap(nb_conf, annot=True, cmap='Blues', fmt='g')\n",
    "plt.show()\n"
   ]
  },
  {
   "cell_type": "markdown",
   "metadata": {},
   "source": [
    "### Logistic Regression"
   ]
  },
  {
   "cell_type": "code",
   "execution_count": 29,
   "metadata": {},
   "outputs": [
    {
     "name": "stderr",
     "output_type": "stream",
     "text": [
      "/home/vlado/anaconda3/lib/python3.8/site-packages/sklearn/linear_model/_logistic.py:762: ConvergenceWarning: lbfgs failed to converge (status=1):\n",
      "STOP: TOTAL NO. of ITERATIONS REACHED LIMIT.\n",
      "\n",
      "Increase the number of iterations (max_iter) or scale the data as shown in:\n",
      "    https://scikit-learn.org/stable/modules/preprocessing.html\n",
      "Please also refer to the documentation for alternative solver options:\n",
      "    https://scikit-learn.org/stable/modules/linear_model.html#logistic-regression\n",
      "  n_iter_i = _check_optimize_result(\n"
     ]
    },
    {
     "data": {
      "text/plain": [
       "{'C': 100.0, 'fit_intercept': True}"
      ]
     },
     "execution_count": 29,
     "metadata": {},
     "output_type": "execute_result"
    }
   ],
   "source": [
    "params = {'C': [1e-3, 1e-2, 1e-1, 1, 1e2, 1e3, 1e4, 1e5, 1e6, 1e7, 1e8, 1e9, 1e10], \n",
    "          'fit_intercept':[True, False]}\n",
    "grid = GridSearchCV(LogisticRegression(), param_grid=params, n_jobs=-1, verbose=0)\n",
    "grid.fit(x_train, y_train)\n",
    "grid.best_params_"
   ]
  },
  {
   "cell_type": "code",
   "execution_count": 30,
   "metadata": {},
   "outputs": [
    {
     "data": {
      "text/plain": [
       "LogisticRegression(C=1000000000.0)"
      ]
     },
     "execution_count": 30,
     "metadata": {},
     "output_type": "execute_result"
    }
   ],
   "source": [
    "lr = LogisticRegression(C=1000000000.0, fit_intercept=True)\n",
    "lr.fit(x_train, y_train)"
   ]
  },
  {
   "cell_type": "code",
   "execution_count": 31,
   "metadata": {},
   "outputs": [
    {
     "name": "stdout",
     "output_type": "stream",
     "text": [
      "Training Score: 0.9992821249102656\n",
      "Testing Score: 0.9597989949748744\n",
      "Recall: 0.7937219730941704\n",
      "Precision: 0.946524064171123\n",
      "F1: 0.8634146341463413\n"
     ]
    }
   ],
   "source": [
    "print(f'Training Score: {lr.score(x_train, y_train)}')\n",
    "print(f'Testing Score: {lr.score(x_test, y_test)}')\n",
    "print(f'Recall: {recall_score(lr.predict(x_test), y_test)}')\n",
    "print(f'Precision: {precision_score(lr.predict(x_test), y_test)}')\n",
    "print(f'F1: {f1_score(lr.predict(x_test), y_test)}')\n",
    "\n"
   ]
  },
  {
   "cell_type": "code",
   "execution_count": 32,
   "metadata": {
    "scrolled": true
   },
   "outputs": [
    {
     "data": {
      "image/png": "[encoded data removed]",
      "text/plain": [
       "<Figure size 432x288 with 2 Axes>"
      ]
     },
     "metadata": {},
     "output_type": "display_data"
    }
   ],
   "source": [
    "lr_conf = confusion_matrix(lr.predict(x_test), y_test)\n",
    "sns.heatmap(lr_conf, annot=True, cmap='Blues', fmt='g')\n",
    "plt.show()"
   ]
  },
  {
   "cell_type": "markdown",
   "metadata": {},
   "source": [
    "### Random Forest"
   ]
  },
  {
   "cell_type": "code",
   "execution_count": 33,
   "metadata": {},
   "outputs": [],
   "source": [
    "# params = {'n_estimators': [100, 500, 1000, 2000, 5000, 10000], 'max_depth':[10, 20, 50, 100, 150]}\n",
    "# grid = GridSearchCV(RandomForestClassifier(), param_grid=params, n_jobs=-1, verbose=0)\n",
    "# grid.fit(x_train, y_train)\n",
    "# grid.best_params_"
   ]
  },
  {
   "cell_type": "code",
   "execution_count": 34,
   "metadata": {},
   "outputs": [
    {
     "data": {
      "text/plain": [
       "RandomForestClassifier(max_depth=150)"
      ]
     },
     "execution_count": 34,
     "metadata": {},
     "output_type": "execute_result"
    }
   ],
   "source": [
    "rf = RandomForestClassifier(n_estimators = 100, max_depth =150)\n",
    "rf.fit(x_train, y_train)"
   ]
  },
  {
   "cell_type": "code",
   "execution_count": 35,
   "metadata": {},
   "outputs": [
    {
     "name": "stdout",
     "output_type": "stream",
     "text": [
      "Training Score: 0.9992821249102656\n",
      "Testing Score: 0.9798994974874372\n",
      "Recall: 1.0\n",
      "Precision: 0.8502673796791443\n",
      "F1: 0.9190751445086706\n"
     ]
    }
   ],
   "source": [
    "print(f'Training Score: {rf.score(x_train, y_train)}')\n",
    "print(f'Testing Score: {rf.score(x_test, y_test)}')\n",
    "print(f'Recall: {recall_score(rf.predict(x_test), y_test)}')\n",
    "print(f'Precision: {precision_score(rf.predict(x_test), y_test)}')\n",
    "print(f'F1: {f1_score(rf.predict(x_test), y_test)}')\n",
    "\n"
   ]
  },
  {
   "cell_type": "code",
   "execution_count": 36,
   "metadata": {},
   "outputs": [
    {
     "data": {
      "image/png": "[encoded data removed]",
      "text/plain": [
       "<Figure size 432x288 with 2 Axes>"
      ]
     },
     "metadata": {},
     "output_type": "display_data"
    }
   ],
   "source": [
    "rf_conf = confusion_matrix(rf.predict(x_test), y_test)\n",
    "sns.heatmap(rf_conf, fmt='g', annot=True, cmap='Blues')\n",
    "plt.show()"
   ]
  },
  {
   "cell_type": "markdown",
   "metadata": {},
   "source": [
    "### Gaussian SVM"
   ]
  },
  {
   "cell_type": "code",
   "execution_count": 37,
   "metadata": {},
   "outputs": [],
   "source": [
    "# params = {'C': [1e-2, 1e-1, 1, 1e3, 1e5, 1e7, 1e9], 'gamma':[0.001, 0.01, 0.1, 1, 2, 10, 50]}\n",
    "# grid = GridSearchCV(SVC(), param_grid=params, n_jobs=-1, verbose=0)\n",
    "# grid.fit(x_train, y_train)\n",
    "# grid.best_params_"
   ]
  },
  {
   "cell_type": "code",
   "execution_count": 38,
   "metadata": {},
   "outputs": [
    {
     "data": {
      "text/plain": [
       "SVC(C=1000, gamma=0.001)"
      ]
     },
     "execution_count": 38,
     "metadata": {},
     "output_type": "execute_result"
    }
   ],
   "source": [
    "gaussian_svm = SVC(C=1000 , gamma= 0.001)\n",
    "gaussian_svm.fit(x_train, y_train)"
   ]
  },
  {
   "cell_type": "code",
   "execution_count": 39,
   "metadata": {},
   "outputs": [
    {
     "name": "stdout",
     "output_type": "stream",
     "text": [
      "Training Score: 0.9966499162479062\n",
      "Testing Score: 0.9863603732950467\n",
      "Recall: 0.9941176470588236\n",
      "Precision: 0.9037433155080213\n",
      "F1: 0.9467787114845937\n"
     ]
    }
   ],
   "source": [
    "print(f'Training Score: {gaussian_svm.score(x_train, y_train)}')\n",
    "print(f'Testing Score: {gaussian_svm.score(x_test, y_test)}')\n",
    "print(f'Recall: {recall_score(gaussian_svm.predict(x_test), y_test)}')\n",
    "print(f'Precision: {precision_score(gaussian_svm.predict(x_test), y_test)}')\n",
    "print(f'F1: {f1_score(gaussian_svm.predict(x_test), y_test)}')\n"
   ]
  },
  {
   "cell_type": "code",
   "execution_count": 40,
   "metadata": {},
   "outputs": [
    {
     "data": {
      "image/png": "[encoded data removed]",
      "text/plain": [
       "<Figure size 432x288 with 2 Axes>"
      ]
     },
     "metadata": {},
     "output_type": "display_data"
    }
   ],
   "source": [
    "gaussian_conf = confusion_matrix(gaussian_svm.predict(x_test), y_test)\n",
    "sns.heatmap(gaussian_conf, fmt='g', annot=True, cmap='Blues')\n",
    "plt.show()"
   ]
  },
  {
   "cell_type": "markdown",
   "metadata": {},
   "source": [
    "### AdaBoost"
   ]
  },
  {
   "cell_type": "code",
   "execution_count": 41,
   "metadata": {},
   "outputs": [],
   "source": [
    "# params = {'n_estimators': [20, 50, 100, 500, 1000], 'learning_rate': [0.001, 0.01, 0.1, 1, 5]}\n",
    "# grid = GridSearchCV(AdaBoostClassifier(base_estimator=LogisticRegression()), param_grid=params)\n",
    "# grid.fit(x_train, y_train)\n",
    "# grid.best_params_"
   ]
  },
  {
   "cell_type": "code",
   "execution_count": 42,
   "metadata": {},
   "outputs": [
    {
     "data": {
      "text/plain": [
       "AdaBoostClassifier(base_estimator=LogisticRegression(), learning_rate=1,\n",
       "                   n_estimators=1000)"
      ]
     },
     "execution_count": 42,
     "metadata": {},
     "output_type": "execute_result"
    }
   ],
   "source": [
    "ada = AdaBoostClassifier(base_estimator=LogisticRegression(), learning_rate=1, n_estimators=1000)\n",
    "ada.fit(x_train, y_train)"
   ]
  },
  {
   "cell_type": "code",
   "execution_count": 43,
   "metadata": {},
   "outputs": [
    {
     "name": "stdout",
     "output_type": "stream",
     "text": [
      "Training Score: 0.9703278296243121\n",
      "Testing Score: 0.955491744436468\n",
      "Recall: 0.9921259842519685\n",
      "Precision: 0.6737967914438503\n",
      "F1: 0.802547770700637\n"
     ]
    }
   ],
   "source": [
    "print(f'Training Score: {ada.score(x_train, y_train)}')\n",
    "print(f'Testing Score: {ada.score(x_test, y_test)}')\n",
    "print(f'Recall: {recall_score(ada.predict(x_test), y_test)}')\n",
    "print(f'Precision: {precision_score(ada.predict(x_test), y_test)}')\n",
    "print(f'F1: {f1_score(ada.predict(x_test), y_test)}')\n"
   ]
  },
  {
   "cell_type": "code",
   "execution_count": 44,
   "metadata": {},
   "outputs": [
    {
     "data": {
      "image/png": "[encoded data removed]",
      "text/plain": [
       "<Figure size 432x288 with 2 Axes>"
      ]
     },
     "metadata": {},
     "output_type": "display_data"
    }
   ],
   "source": [
    "ada_conf = confusion_matrix(ada.predict(x_test), y_test)\n",
    "sns.heatmap(ada_conf, fmt='g', annot=True, cmap='Blues')\n",
    "plt.show()"
   ]
  },
  {
   "cell_type": "markdown",
   "metadata": {},
   "source": [
    "## Models Assessment"
   ]
  },
  {
   "cell_type": "markdown",
   "metadata": {},
   "source": [
    "We achieved fairly different results with different models. We started with simpler models - we tried a probabilistic model like Naive Bayes that uses Bayes Theorem and statistics to predict, then we moved on with the Logistic Regression as the first model with Gradient descent, very simple one, we tried to project the data in higher dimensional space with Gaussian SVM. Then we moved on a boosting process with Random Forest which is an ensemble of Trees(or if-else condition based model). Then we tried to boost Logistic regression with AdaBoost in order to difer from RandomForest(by default Ada uses Trees as well).\n",
    "\n",
    "We observed the best results in terms of recall for class 1 with Random Forest. It  never confused a non spam message with a spam on testing data! This means we will rarely have a Spam Message in our main sections. But we lose a fair amount of real message, wrongly classified as spams.Logistic Regression is the top performer in terms of keeping the real messages but it let many spams in as well.Adaboost with Logistic Regressions has similar behavior to the other ensemble algorithm - Random Forest - but its worse.  \n",
    "\n",
    "So as we said in the beginning the main metric we'll use to evaluate and make a final call is Accuracy because it gives a nice balance for the tradeoff we observe with this problem.\n",
    "\n",
    "And the highest accuracy + highest mean of all the other 3 metrics we use is achieved by the Guassian SVM. MultiNomial Naive Bayes is close but it's a little bit worse. Also because of the size of the dataset which is not very large this is relatively fast, light and simple model so we can only be happy with that.\n",
    "\n",
    "Let's now save and export our model so we can use it later in different environments and with different data. I'll comment the code so we don't rewrite the pickled file every time we run the notebook."
   ]
  },
  {
   "cell_type": "code",
   "execution_count": 45,
   "metadata": {},
   "outputs": [],
   "source": [
    "# import pickle\n",
    "# from sklearn.pipeline import  Pipeline\n",
    "# from sklearn.preprocessing import FunctionTransformer\n"
   ]
  },
  {
   "cell_type": "code",
   "execution_count": 46,
   "metadata": {},
   "outputs": [],
   "source": [
    "# clean_transformer = FunctionTransformer(custom_clean_transformer)\n",
    "# stem_transformer = FunctionTransformer(custom_stem_transformer)"
   ]
  },
  {
   "cell_type": "code",
   "execution_count": 47,
   "metadata": {},
   "outputs": [],
   "source": [
    "# gaussian_svm_pipeline = Pipeline([('vectorizer', tf_idf), ('classifier', gaussian_svm)])"
   ]
  },
  {
   "cell_type": "code",
   "execution_count": 48,
   "metadata": {},
   "outputs": [],
   "source": [
    "# gaussian_svm_pipeline.fit(data['text'], data['target'])"
   ]
  },
  {
   "cell_type": "code",
   "execution_count": 49,
   "metadata": {},
   "outputs": [],
   "source": [
    "# save_classifier = open(\"spam_detector.pickle\",\"wb\")\n",
    "# pickle.dump(gaussian_svm_pipeline, save_classifier)\n",
    "# save_classifier.close()"
   ]
  },
  {
   "cell_type": "markdown",
   "metadata": {},
   "source": [
    "The model is now ready to be used in any environment and with any data in text format."
   ]
  },
  {
   "cell_type": "markdown",
   "metadata": {},
   "source": [
    "## Resources:\n",
    "\n",
    "- https://archive.ics.uci.edu/ml/datasets/SMS+Spam+Collection\n",
    "\n",
    "- https://scikit-learn.org/stable/modules/generated/sklearn.naive_bayes.MultinomialNB.html\n",
    "\n",
    "- https://scikit-learn.org/stable/modules/generated/sklearn.feature_extraction.text.TfidfVectorizer.html"
   ]
  }
 ],
 "metadata": {
  "kernelspec": {
   "display_name": "Python 3",
   "language": "python",
   "name": "python3"
  },
  "language_info": {
   "codemirror_mode": {
    "name": "ipython",
    "version": 3
   },
   "file_extension": ".py",
   "mimetype": "text/x-python",
   "name": "python",
   "nbconvert_exporter": "python",
   "pygments_lexer": "ipython3",
   "version": "3.8.5"
  }
 },
 "nbformat": 4,
 "nbformat_minor": 4
}
